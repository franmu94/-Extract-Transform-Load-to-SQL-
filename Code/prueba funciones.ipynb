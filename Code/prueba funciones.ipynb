{
 "cells": [
  {
   "cell_type": "markdown",
   "id": "0a3c8537",
   "metadata": {},
   "source": [
    "name : AMD Ryzen Threadripper 3990X"
   ]
  },
  {
   "cell_type": "code",
   "execution_count": 1,
   "id": "26673513",
   "metadata": {},
   "outputs": [
    {
     "data": {
      "text/plain": [
       "'AMD-Ryzen-9-3900XT'"
      ]
     },
     "execution_count": 1,
     "metadata": {},
     "output_type": "execute_result"
    }
   ],
   "source": [
    "name = \"AMD Ryzen 9 3900XT\"\n",
    "name.replace(\" \",\"-\")"
   ]
  },
  {
   "cell_type": "code",
   "execution_count": 2,
   "id": "0310660e",
   "metadata": {},
   "outputs": [],
   "source": [
    "\n",
    "import sys\n",
    "sys.path.append(\"../\")"
   ]
  },
  {
   "cell_type": "code",
   "execution_count": 3,
   "id": "fbce4676",
   "metadata": {},
   "outputs": [],
   "source": [
    "from src.funciones import *\n"
   ]
  },
  {
   "cell_type": "code",
   "execution_count": 4,
   "id": "be9809d3",
   "metadata": {},
   "outputs": [
    {
     "data": {
      "text/plain": [
       "0"
      ]
     },
     "execution_count": 4,
     "metadata": {},
     "output_type": "execute_result"
    }
   ],
   "source": [
    "scrap_releasedate(\"ddd\")"
   ]
  },
  {
   "cell_type": "code",
   "execution_count": 5,
   "id": "5b13da53",
   "metadata": {},
   "outputs": [],
   "source": [
    "lista_nombres = ['AMD Ryzen 9 5950X', 'AMD Ryzen 9 5900X', 'AMD Ryzen 7 5800X', 'AMD Ryzen 5 5600X', 'AMD Ryzen 9 3900XT', 'AMD Ryzen 7 3800XT', 'AMD Ryzen 5 3600XT', 'AMD Ryzen Threadripper PRO 3995WX', 'AMD Ryzen Threadripper PRO 3975WX', 'AMD Ryzen Threadripper PRO 3955WX', 'AMD Ryzen Threadripper PRO 3945WX', 'AMD Ryzen Threadripper 3990X', 'AMD Ryzen Threadripper 3970X', 'AMD Ryzen Threadripper 3960X', 'AMD Ryzen 9 3950X', 'AMD Ryzen 9 3900X', 'AMD Ryzen 7 3800X', 'AMD Ryzen 7 3700X', 'AMD Ryzen 7 5700G', 'AMD Ryzen 7 5700GE', 'AMD Ryzen 5 3600X', 'AMD Ryzen 5 5600G', 'AMD Ryzen 5 5600GE', 'AMD Ryzen 5 3600', 'AMD Ryzen 3 3300X', 'AMD Ryzen 3 3100', 'AMD Ryzen 5 3400G with Radeon RX Vega 11 Graphics', 'AMD Ryzen 3 3200G with Radeon Vega 8 Graphics', 'AMD Athlon 320GE', 'AMD Athlon 300GE', 'AMD Ryzen Threadripper 2990WX', 'AMD Ryzen Threadripper 2970WX', 'AMD Ryzen Threadripper 2950X', 'AMD Ryzen Threadripper 2920X', 'AMD Ryzen 7 2700X', 'AMD Ryzen 7 2700', 'AMD Ryzen 7 2700E Processor', 'AMD Ryzen 5 2600X', 'AMD Ryzen 5 2600', 'AMD Ryzen 5 2600E', 'AMD Ryzen 5 2500X', 'AMD Ryzen 5 2400G with Radeon RX Vega 11 Graphics', 'AMD Ryzen 5 2400GE with Radeon RX Vega 11 Graphics', 'AMD Ryzen 3 2300X', 'AMD Ryzen 3 2200G with Radeon Vega 8 Graphics', 'AMD Ryzen 3 2200GE with Radeon Vega 8 Graphics', 'AMD Ryzen Threadripper 1950X', 'AMD Ryzen Threadripper 1920X', 'AMD Ryzen Threadripper 1900X', 'AMD Ryzen 7 1800X', 'AMD Ryzen 5 PRO 5650G', 'AMD Ryzen 5 PRO 5650GE', 'AMD Ryzen 7 1700X', 'AMD Ryzen 9 PRO 3900', 'AMD Ryzen 7 PRO 3700', 'AMD Ryzen 7 1700 Processor', 'AMD Ryzen 7 PRO 5750G', 'AMD Ryzen 7 PRO 5750GE', 'AMD Ryzen 3 PRO 5350G', 'AMD Ryzen 7 PRO 4750G', 'AMD Ryzen 7 PRO 4750GE', 'AMD Ryzen 5 PRO 3600', 'AMD Ryzen 5 1600X', 'AMD Ryzen 3 PRO 5350GE', 'AMD Ryzen 5 PRO 4650G', 'AMD Ryzen 5 PRO 4650GE', 'AMD Ryzen 3 PRO 4350G', 'AMD Ryzen 3 PRO 4350GE', 'AMD Ryzen 5 1600', 'AMD Ryzen 5 1600 (AF)', 'AMD Ryzen 5 PRO 3400G', 'AMD Ryzen 5 1500X', 'AMD Ryzen 5 PRO 3400GE', 'AMD Ryzen 5 PRO 3350G', 'AMD Ryzen 5 PRO 3350GE', 'AMD Ryzen 5 1400', 'AMD Ryzen 3 PRO 3200G', 'AMD Ryzen 3 PRO 3200GE', 'AMD Ryzen 3 1300X', 'AMD Athlon Gold PRO 3150G', 'AMD Athlon Gold PRO 3150GE', 'AMD Athlon Silver PRO 3125GE', 'AMD Athlon PRO 300GE', 'AMD Ryzen 3 1200', 'AMD Ryzen 7 PRO 2700X', 'AMD Ryzen 7 PRO 2700', 'AMD Ryzen 7 PRO 1700X Processor', 'AMD Ryzen 7 PRO 1700', 'AMD Ryzen 5 PRO 2600', 'AMD Ryzen 5 PRO 1600', 'AMD Ryzen 5 PRO 1500', 'AMD Ryzen 5 PRO 2400G with Radeon Vega 11 Graphics', 'AMD Ryzen 5 PRO 2400GE with Radeon Vega 11 Graphics', 'AMD Ryzen 3 PRO 1300', 'AMD Ryzen 3 PRO 2200G with Radeon Vega 8 Graphics', 'AMD Ryzen 3 PRO 2200GE with Radeon Vega 8 Graphics', 'AMD Ryzen 3 PRO 1200', '7th Gen A12-9800 APU', '7th Gen A12-9800E APU', '7th Gen A10-9700 APU', '7th Gen A10-9700E APU', '7th Gen A8-9600 APU', '7th Gen A6-9550 APU', '7th Gen A6-9500 APU', '7th Gen A6-9500E APU', '7th Gen AMD PRO A12-9800 APU', '7th Gen AMD PRO A12-9800E APU', '7th Gen AMD PRO A10-9700 APU', '7th Gen AMD PRO A10-9700E APU', '7th Gen AMD PRO A8-9600 APU', '7th Gen AMD PRO A6-9500 APU', '7th Gen AMD PRO A6-9500E APU', '6th Gen AMD PRO A12-8870 APU', '6th Gen AMD PRO A12-8870E APU', '6th Gen AMD PRO A10-8850B APU', '6th Gen AMD PRO A10-8770 APU', '6th Gen AMD PRO A10-8770E APU', '6th Gen AMD PRO A10-8750B APU', '6th Gen AMD PRO A8-8650B APU', '6th Gen AMD PRO A6-8570 APU', '6th Gen AMD PRO A6-8570E APU', '6th Gen AMD PRO A6-8550B APU', '6th Gen AMD PRO A4-8350B APU', 'A10-7890K with Radeon R7 Graphics and Wraith cooler', 'A10-7870K with Radeon R7 Series', 'A10-7870K with Radeon R7 Graphics and Near Silent Thermal Solution', 'A10-7860K with Radeon R7 Series', 'A10-7860K with Radeon R7 Graphics and Near Silent Thermal Solution', 'A10-7850K with Radeon R7 Series', 'A10-7800 with Radeon R7 Series', 'A10-7700K with Radeon R7 Series', 'A10-6800K with Radeon HD 8670D', 'A10-6790K with Radeon HD 8670D', 'A10-6700 with Radeon HD 8670D', 'A10-6700T with Radeon HD 8650D', 'A8-7670K with Radeon R7 Graphics and Near Silent Thermal Solution', 'A8-7650K with Radeon R7 Series', 'A8-7650K with Radeon R7 Graphics and Near Silent Thermal Solution', 'A8-7600 with Radeon R7 Series', 'A8-6600K with Radeon HD 8570D', 'A8-6500 with Radeon HD 8570D', 'A8-6500T with Radeon HD 8550D', 'A6-7470K with Radeon R5 Series', 'A6-7400K with Radeon R5 Series', 'A6-6420K with Radeon HD 8470D', 'A6-6310 with Radeon R4 Graphics', 'A6-6400K with Radeon HD 8470D', 'A6-5200 with Radeon HD 8400', 'A4-7300 with Radeon HD 8470D', 'A4-6320 with Radeon HD 8370D', 'A4-6300 with Radeon HD 8370D', 'A4-5100 with Radeon HD 8330', 'A4-5000 with Radeon HD 8330', 'FX-9590', 'FX-9370', 'FX-8370 with Wraith cooler', 'FX-8370E', 'FX-8370', 'FX-8350 with Wraith cooler', 'FX-8350', 'FX-8320E', 'FX-8320', 'FX-8310', 'FX-8300', 'FX-8150', 'FX-8120', 'FX-6350 with Wraith cooler', 'FX-6350', 'FX-6300', 'FX-6200', 'FX 6100', 'FX-4350', 'FX-4320', 'FX-4300', 'FX-4170', 'FX-4130', 'FX-4100', '1075T', '1045T', '980', '975', '965', '960T', '850', '840', '570', '565', '555', '565', 'B99', 'B97', 'B95', 'B77', 'B75', 'B60', 'B59', 'B57', '641', '638', '631', '631', '620e', '460', '425e', '255e', '7th Gen AMD Athlon X4 970', '7th Gen AMD Athlon X4 950', '7th Gen AMD Athlon X4 940', '880K with Near Silent Thermal Solution', '870K with Near Silent Thermal Solution', 'A10-6800B with Radeon HD 8670D', '860K', 'A10-6790B with Radeon HD 8670D', '860K with Near Silent Thermal Solution', '845 with Near Silent Thermal Solution', 'A8-6500B with Radeon HD 8570D', '760K', '750', 'A6-6420B with Radeon HD 8470D', '750K', '740', 'A6-6400B with Radeon HD 8470D', '2800+', 'A10 PRO-7850B with Radeon R7 Graphics', 'A10 PRO-7800B with Radeon R7 Graphics', 'A8 PRO-7600B with Radeon R7 Graphics', 'A6 PRO-7400B with Radeon R5 Graphics', 'A4 PRO-7350B with Radeon R5 Graphics', 'A4 PRO-7300B with Radeon HD 8470D', 'AMD Athlon 3000G', 'AMD Athlon 240GE', 'AMD Athlon 220GE', 'AMD Athlon 200GE', 'Athlon 5370 APU with Radeon R3 Series', 'Athlon 5350 APU with Radeon R3 Series', 'Athlon 5150 APU with Radeon R3 Series', 'AMD Athlon PRO 200GE', 'Sempron 3850 APU with Radeon R3 Series', 'Sempron 2650 APU with Radeon R3 Series']\n"
   ]
  },
  {
   "cell_type": "code",
   "execution_count": 6,
   "id": "07996326",
   "metadata": {},
   "outputs": [
    {
     "name": "stdout",
     "output_type": "stream",
     "text": [
      "\u001b[33mDEPRECATION: Configuring installation scheme with distutils config files is deprecated and will no longer work in the near future. If you are using a Homebrew or Linuxbrew Python, please see discussion at https://github.com/Homebrew/homebrew-core/issues/76621\u001b[0m\u001b[33m\n",
      "\u001b[0mRequirement already satisfied: selenium in /opt/homebrew/lib/python3.9/site-packages (4.1.3)\n",
      "Requirement already satisfied: urllib3[secure,socks]~=1.26 in /opt/homebrew/lib/python3.9/site-packages (from selenium) (1.26.9)\n",
      "Requirement already satisfied: trio~=0.17 in /opt/homebrew/lib/python3.9/site-packages (from selenium) (0.20.0)\n",
      "Requirement already satisfied: trio-websocket~=0.9 in /opt/homebrew/lib/python3.9/site-packages (from selenium) (0.9.2)\n",
      "Requirement already satisfied: sortedcontainers in /opt/homebrew/lib/python3.9/site-packages (from trio~=0.17->selenium) (2.4.0)\n",
      "Requirement already satisfied: idna in /opt/homebrew/lib/python3.9/site-packages (from trio~=0.17->selenium) (3.3)\n",
      "Requirement already satisfied: async-generator>=1.9 in /opt/homebrew/lib/python3.9/site-packages (from trio~=0.17->selenium) (1.10)\n",
      "Requirement already satisfied: outcome in /opt/homebrew/lib/python3.9/site-packages (from trio~=0.17->selenium) (1.1.0)\n",
      "Requirement already satisfied: attrs>=19.2.0 in /opt/homebrew/lib/python3.9/site-packages (from trio~=0.17->selenium) (21.4.0)\n",
      "Requirement already satisfied: sniffio in /opt/homebrew/lib/python3.9/site-packages (from trio~=0.17->selenium) (1.2.0)\n",
      "Requirement already satisfied: wsproto>=0.14 in /opt/homebrew/lib/python3.9/site-packages (from trio-websocket~=0.9->selenium) (1.1.0)\n",
      "Requirement already satisfied: PySocks!=1.5.7,<2.0,>=1.5.6 in /opt/homebrew/lib/python3.9/site-packages (from urllib3[secure,socks]~=1.26->selenium) (1.7.1)\n",
      "Requirement already satisfied: cryptography>=1.3.4 in /opt/homebrew/lib/python3.9/site-packages (from urllib3[secure,socks]~=1.26->selenium) (36.0.2)\n",
      "Requirement already satisfied: certifi in /opt/homebrew/lib/python3.9/site-packages (from urllib3[secure,socks]~=1.26->selenium) (2021.10.8)\n",
      "Requirement already satisfied: pyOpenSSL>=0.14 in /opt/homebrew/lib/python3.9/site-packages (from urllib3[secure,socks]~=1.26->selenium) (22.0.0)\n",
      "Requirement already satisfied: cffi>=1.12 in /opt/homebrew/lib/python3.9/site-packages (from cryptography>=1.3.4->urllib3[secure,socks]~=1.26->selenium) (1.15.0)\n",
      "Requirement already satisfied: h11<1,>=0.9.0 in /opt/homebrew/lib/python3.9/site-packages (from wsproto>=0.14->trio-websocket~=0.9->selenium) (0.13.0)\n",
      "Requirement already satisfied: pycparser in /opt/homebrew/lib/python3.9/site-packages (from cffi>=1.12->cryptography>=1.3.4->urllib3[secure,socks]~=1.26->selenium) (2.21)\n",
      "\u001b[33mDEPRECATION: Configuring installation scheme with distutils config files is deprecated and will no longer work in the near future. If you are using a Homebrew or Linuxbrew Python, please see discussion at https://github.com/Homebrew/homebrew-core/issues/76621\u001b[0m\u001b[33m\n",
      "\u001b[0mNote: you may need to restart the kernel to use updated packages.\n",
      "\u001b[33mDEPRECATION: Configuring installation scheme with distutils config files is deprecated and will no longer work in the near future. If you are using a Homebrew or Linuxbrew Python, please see discussion at https://github.com/Homebrew/homebrew-core/issues/76621\u001b[0m\u001b[33m\n",
      "\u001b[0mRequirement already satisfied: webdriver_manager in /opt/homebrew/lib/python3.9/site-packages (3.5.4)\n",
      "Requirement already satisfied: requests in /opt/homebrew/lib/python3.9/site-packages (from webdriver_manager) (2.27.1)\n",
      "Requirement already satisfied: charset-normalizer~=2.0.0 in /opt/homebrew/lib/python3.9/site-packages (from requests->webdriver_manager) (2.0.12)\n",
      "Requirement already satisfied: certifi>=2017.4.17 in /opt/homebrew/lib/python3.9/site-packages (from requests->webdriver_manager) (2021.10.8)\n",
      "Requirement already satisfied: urllib3<1.27,>=1.21.1 in /opt/homebrew/lib/python3.9/site-packages (from requests->webdriver_manager) (1.26.9)\n",
      "Requirement already satisfied: idna<4,>=2.5 in /opt/homebrew/lib/python3.9/site-packages (from requests->webdriver_manager) (3.3)\n",
      "\u001b[33mDEPRECATION: Configuring installation scheme with distutils config files is deprecated and will no longer work in the near future. If you are using a Homebrew or Linuxbrew Python, please see discussion at https://github.com/Homebrew/homebrew-core/issues/76621\u001b[0m\u001b[33m\n",
      "\u001b[0mNote: you may need to restart the kernel to use updated packages.\n"
     ]
    },
    {
     "name": "stderr",
     "output_type": "stream",
     "text": [
      "\n",
      "\n",
      "====== WebDriver manager ======\n",
      "Current google-chrome version is 100.0.4896\n",
      "Get LATEST chromedriver version for 100.0.4896 google-chrome\n",
      "Trying to download new driver from https://chromedriver.storage.googleapis.com/100.0.4896.60/chromedriver_mac64_m1.zip\n",
      "Driver has been saved in cache [/Users/franmalo/.wdm/drivers/chromedriver/mac64_m1/100.0.4896.60]\n",
      "/var/folders/90/gr77lgmd6713qz3vp27nwytc0000gn/T/ipykernel_1071/548176679.py:11: DeprecationWarning: executable_path has been deprecated, please pass in a Service object\n",
      "  driver=webdriver.Chrome(PATH)\n"
     ]
    }
   ],
   "source": [
    "%pip install selenium\n",
    "%pip install webdriver_manager\n",
    "\n",
    "import pandas as pd\n",
    "from selenium.webdriver.chrome.options import Options\n",
    "from webdriver_manager.chrome import ChromeDriverManager\n",
    "from selenium import webdriver\n",
    "\n",
    "\n",
    "PATH=ChromeDriverManager().install()\n",
    "driver=webdriver.Chrome(PATH)\n",
    "\n",
    "#driver configuration\n",
    "opciones=Options()\n",
    "\n",
    "opciones.add_experimental_option('excludeSwitches', ['enable-automation'])\n",
    "opciones.add_experimental_option('useAutomationExtension', False)\n",
    "opciones.headless=False    # si True, no aperece la ventana (headless=no visible)\n",
    "opciones.add_argument('--start-maximized')         # comienza maximizado\n",
    "#opciones.add_argument('user-data-dir=selenium')    # mantiene las cookies\n",
    "#opciones.add_extension('driver_folder/adblock.crx')       # adblocker\n",
    "opciones.add_argument('--incognito')\n"
   ]
  },
  {
   "cell_type": "code",
   "execution_count": 7,
   "id": "4df6cd18",
   "metadata": {},
   "outputs": [],
   "source": [
    "name = \"A6-5200 with Radeon HD 8400\" #asi es como ve viene del csv"
   ]
  },
  {
   "cell_type": "code",
   "execution_count": 18,
   "id": "037b19a3",
   "metadata": {},
   "outputs": [
    {
     "name": "stderr",
     "output_type": "stream",
     "text": [
      "/var/folders/90/gr77lgmd6713qz3vp27nwytc0000gn/T/ipykernel_1071/160465076.py:6: DeprecationWarning: find_elements_by_tag_name is deprecated. Please use find_elements(by=By.TAG_NAME, value=name) instead\n",
      "  caja= driver.find_elements_by_tag_name(\"fieldset\")\n"
     ]
    },
    {
     "name": "stdout",
     "output_type": "stream",
     "text": [
      "<selenium.webdriver.remote.webelement.WebElement (session=\"145c1a35d9b5a8a26b70cf1604a4a90f\", element=\"0e8240b5-9f4a-4bfa-b9ee-630323b4d10e\")>\n"
     ]
    },
    {
     "ename": "NameError",
     "evalue": "name 'html' is not defined",
     "output_type": "error",
     "traceback": [
      "\u001b[0;31m---------------------------------------------------------------------------\u001b[0m",
      "\u001b[0;31mNameError\u001b[0m                                 Traceback (most recent call last)",
      "Input \u001b[0;32mIn [18]\u001b[0m, in \u001b[0;36m<cell line: 21>\u001b[0;34m()\u001b[0m\n\u001b[1;32m     14\u001b[0m                 \u001b[38;5;28mprint\u001b[39m (j)\n\u001b[1;32m     15\u001b[0m                 \u001b[38;5;124;03m\"\"\"for k in b:\u001b[39;00m\n\u001b[1;32m     16\u001b[0m \u001b[38;5;124;03m                    if (\"20\" in k.text):\u001b[39;00m\n\u001b[1;32m     17\u001b[0m \u001b[38;5;124;03m                        print ( k.text)\"\"\"\u001b[39;00m\n\u001b[0;32m---> 21\u001b[0m \u001b[43mhtml\u001b[49m\u001b[38;5;241m/\u001b[39mbody\u001b[38;5;241m/\u001b[39mdiv[\u001b[38;5;241m1\u001b[39m]\u001b[38;5;241m/\u001b[39mmain\u001b[38;5;241m/\u001b[39mdiv\u001b[38;5;241m/\u001b[39mdiv\u001b[38;5;241m/\u001b[39mdiv\u001b[38;5;241m/\u001b[39marticle\u001b[38;5;241m/\u001b[39mdiv\u001b[38;5;241m/\u001b[39mdiv[\u001b[38;5;241m5\u001b[39m]\u001b[38;5;241m/\u001b[39mdiv\u001b[38;5;241m/\u001b[39mdiv\u001b[38;5;241m/\u001b[39mdiv\u001b[38;5;241m/\u001b[39mfieldset[\u001b[38;5;241m1\u001b[39m]()\n",
      "\u001b[0;31mNameError\u001b[0m: name 'html' is not defined"
     ]
    }
   ],
   "source": [
    "name = \"AMD Ryzen 9 5900X\"\n",
    "\n",
    "name=name.replace(\"with \",\"\").replace(\" \",\"-\")\n",
    "url = 'https://www.amd.com/es/products/cpu/'+name\n",
    "driver.get(url)\n",
    "caja= driver.find_elements_by_tag_name(\"fieldset\")\n",
    "\n",
    "for i in caja:\n",
    "    if \"General Specifications\" in i.text:\n",
    "        a=i.find_elements_by_tag_name(\"div\")\n",
    "        for j in a:\n",
    "            if(j.get_attribute('class')) == \"field field--name-field-launch-date field--type-string field--label-inline\":\n",
    "                b=j.find_elements_by_tag_name(\"div\")\n",
    "                print (j)\n",
    "                \"\"\"for k in b:\n",
    "                    if (\"20\" in k.text):\n",
    "                        print ( k.text)\"\"\"\n",
    "            \n",
    "\n",
    "\n",
    "/html/body/div[1]/main/div/div/div/article/div/div[5]/div/div/div/fieldset[1]\n",
    "/html/body/div[1]/main/div/div/div/article/div/div[6]/div/div/div/fieldset[1]\n"
   ]
  },
  {
   "cell_type": "code",
   "execution_count": 12,
   "id": "0bd0b43d",
   "metadata": {},
   "outputs": [],
   "source": [
    "def procesor_release_date1(name):\n",
    "    name=name.replace(\"with \",\"\").replace(\" \",\"-\")\n",
    "    \n",
    "    url = 'https://www.amd.com/es/products/cpu/'+name\n",
    "    driver.get(url)\n",
    "    caja= driver.find_elements_by_tag_name(\"fieldset\")\n",
    "\n",
    "\n",
    "    for i in caja:\n",
    "        if \"General Specifications\" in i.text:\n",
    "            a=i.find_elements_by_tag_name(\"div\")\n",
    "            for j in a:\n",
    "                if (\"Fecha\" in j.text):\n",
    "                    print (j.text)\n",
    "\n",
    "def procesor_release_date2(name):\n",
    "    name=name.replace(\"with \",\"\").replace(\" \",\"-\")\n",
    "    url = 'https://www.amd.com/es/products/cpu/'+name\n",
    "    driver.get(url)\n",
    "    caja= driver.find_elements_by_tag_name(\"fieldset\")\n",
    "\n",
    "    for i in caja:\n",
    "        if \"General Specifications\" in i.text:\n",
    "            a=i.find_elements_by_tag_name(\"div\")\n",
    "            for j in a:\n",
    "                if(j.get_attribute('class')) == \"field field--name-field-launch-date field--type-string field--label-inline\":\n",
    "                    b=j.find_elements_by_tag_name(\"div\")\n",
    "                    for i in b:\n",
    "                        if (\"20\" in i.text):\n",
    "                            return (i.text)\n",
    "            \n",
    "\n"
   ]
  },
  {
   "cell_type": "markdown",
   "id": "8a500f6b",
   "metadata": {},
   "source": [
    "voy a dividir la lista en dos diccionarios porque sino es muy grande"
   ]
  },
  {
   "cell_type": "code",
   "execution_count": null,
   "id": "fadf2125",
   "metadata": {},
   "outputs": [],
   "source": [
    "#name : AMD Ryzen Threadripper 3990X\n",
    "name=name.replace(\"with \",\"\").replace(\" \",\"-\")\n",
    "\n",
    "name "
   ]
  },
  {
   "cell_type": "code",
   "execution_count": 10,
   "id": "8b3924f5",
   "metadata": {},
   "outputs": [],
   "source": [
    "len(lista_nombres)\n",
    "lista_nombres_1=lista_nombres[0:40]\n",
    "lista_nombres_2=lista_nombres[40:80]\n",
    "lista_nombres_3=lista_nombres[80:120]\n",
    "lista_nombres_4=lista_nombres[120:160]\n",
    "lista_nombres_5=lista_nombres[160:200]\n",
    "lista_nombres_6=lista_nombres[200:239]\n",
    "\n"
   ]
  },
  {
   "cell_type": "code",
   "execution_count": 13,
   "id": "a383cb42",
   "metadata": {},
   "outputs": [
    {
     "name": "stderr",
     "output_type": "stream",
     "text": [
      "/var/folders/90/gr77lgmd6713qz3vp27nwytc0000gn/T/ipykernel_1071/1535129462.py:20: DeprecationWarning: find_elements_by_tag_name is deprecated. Please use find_elements(by=By.TAG_NAME, value=name) instead\n",
      "  caja= driver.find_elements_by_tag_name(\"fieldset\")\n",
      "/opt/homebrew/lib/python3.9/site-packages/selenium/webdriver/remote/webelement.py:359: UserWarning: find_elements_by_tag_name is deprecated. Please use find_elements(by=By.TAG_NAME, value=name) instead\n",
      "  warnings.warn(\"find_elements_by_tag_name is deprecated. Please use find_elements(by=By.TAG_NAME, value=name) instead\")\n"
     ]
    },
    {
     "name": "stdout",
     "output_type": "stream",
     "text": [
      "AMD Ryzen 9 5950X 11/5/2020\n",
      "AMD Ryzen 9 5900X 11/5/2020\n",
      "AMD Ryzen 7 5800X 11/5/2020\n",
      "AMD Ryzen 5 5600X 11/5/2020\n",
      "AMD Ryzen 9 3900XT 7/2020\n",
      "AMD Ryzen 7 3800XT 7/2020\n",
      "AMD Ryzen 5 3600XT 7/2020\n",
      "AMD Ryzen Threadripper PRO 3995WX 7/14/2020\n",
      "AMD Ryzen Threadripper PRO 3975WX 7/14/2020\n",
      "AMD Ryzen Threadripper PRO 3955WX 7/14/2020\n",
      "AMD Ryzen Threadripper PRO 3945WX 7/14/2020\n",
      "AMD Ryzen Threadripper 3990X None\n",
      "AMD Ryzen Threadripper 3970X 11/25/2019\n",
      "AMD Ryzen Threadripper 3960X 11/25/2019\n",
      "AMD Ryzen 9 3950X None\n",
      "AMD Ryzen 9 3900X 7/7/2019\n",
      "AMD Ryzen 7 3800X 7/7/2019\n",
      "AMD Ryzen 7 3700X 7/7/2019\n",
      "AMD Ryzen 7 5700G None\n",
      "AMD Ryzen 7 5700GE None\n",
      "AMD Ryzen 5 3600X 7/7/2019\n",
      "AMD Ryzen 5 5600G None\n",
      "AMD Ryzen 5 5600GE None\n",
      "AMD Ryzen 5 3600 7/7/2019\n",
      "AMD Ryzen 3 3300X 05/2020\n",
      "AMD Ryzen 3 3100 05/2020\n",
      "AMD Ryzen 5 3400G with Radeon RX Vega 11 Graphics None\n",
      "AMD Ryzen 3 3200G with Radeon Vega 8 Graphics None\n",
      "AMD Athlon 320GE None\n",
      "AMD Athlon 300GE None\n"
     ]
    }
   ],
   "source": [
    "dict_fechas={}\n",
    "for i in lista_nombres_1[:30]:\n",
    "    dict_fechas[i]=procesor_release_date2(i)\n",
    "    #if dict_dechas[i] == None:\n",
    "    \n",
    "    print (i, dict_fechas[i])"
   ]
  },
  {
   "cell_type": "code",
   "execution_count": null,
   "id": "c721ddde",
   "metadata": {},
   "outputs": [],
   "source": []
  },
  {
   "cell_type": "code",
   "execution_count": null,
   "id": "632a9c7c",
   "metadata": {},
   "outputs": [],
   "source": []
  },
  {
   "cell_type": "code",
   "execution_count": null,
   "id": "63d4f2c1",
   "metadata": {},
   "outputs": [],
   "source": []
  }
 ],
 "metadata": {
  "kernelspec": {
   "display_name": "Python 3 (ipykernel)",
   "language": "python",
   "name": "python3"
  },
  "language_info": {
   "codemirror_mode": {
    "name": "ipython",
    "version": 3
   },
   "file_extension": ".py",
   "mimetype": "text/x-python",
   "name": "python",
   "nbconvert_exporter": "python",
   "pygments_lexer": "ipython3",
   "version": "3.9.12"
  }
 },
 "nbformat": 4,
 "nbformat_minor": 5
}
