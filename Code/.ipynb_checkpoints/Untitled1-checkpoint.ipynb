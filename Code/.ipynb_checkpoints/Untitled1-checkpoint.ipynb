{
 "cells": [
  {
   "cell_type": "markdown",
   "id": "0a3c8537",
   "metadata": {},
   "source": [
    "name : AMD Ryzen Threadripper 3990X"
   ]
  },
  {
   "cell_type": "code",
   "execution_count": null,
   "id": "26673513",
   "metadata": {},
   "outputs": [],
   "source": [
    "el objetivo es scrapear"
   ]
  },
  {
   "cell_type": "code",
   "execution_count": 1,
   "id": "0310660e",
   "metadata": {},
   "outputs": [],
   "source": [
    "\n",
    "import sys\n",
    "sys.path.append(\"../\")"
   ]
  },
  {
   "cell_type": "code",
   "execution_count": 2,
   "id": "fbce4676",
   "metadata": {},
   "outputs": [],
   "source": [
    "from src.funciones import *\n"
   ]
  },
  {
   "cell_type": "code",
   "execution_count": null,
   "id": "be9809d3",
   "metadata": {},
   "outputs": [],
   "source": []
  },
  {
   "cell_type": "code",
   "execution_count": null,
   "id": "5b13da53",
   "metadata": {},
   "outputs": [],
   "source": []
  },
  {
   "cell_type": "code",
   "execution_count": null,
   "id": "07996326",
   "metadata": {},
   "outputs": [],
   "source": []
  }
 ],
 "metadata": {
  "kernelspec": {
   "display_name": "Python 3 (ipykernel)",
   "language": "python",
   "name": "python3"
  },
  "language_info": {
   "codemirror_mode": {
    "name": "ipython",
    "version": 3
   },
   "file_extension": ".py",
   "mimetype": "text/x-python",
   "name": "python",
   "nbconvert_exporter": "python",
   "pygments_lexer": "ipython3",
   "version": "3.9.12"
  }
 },
 "nbformat": 4,
 "nbformat_minor": 5
}
